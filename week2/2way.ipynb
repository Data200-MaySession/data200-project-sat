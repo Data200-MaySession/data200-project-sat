{
 "cells": [
  {
   "cell_type": "code",
   "execution_count": 1,
   "id": "1491e786",
   "metadata": {},
   "outputs": [
    {
     "name": "stdout",
     "output_type": "stream",
     "text": [
      "Requirement already satisfied: scipy in c:\\users\\acer\\data200-project-sat\\env\\lib\\site-packages (1.15.3)\n",
      "Requirement already satisfied: statsmodels in c:\\users\\acer\\data200-project-sat\\env\\lib\\site-packages (0.14.4)\n",
      "Requirement already satisfied: pandas in c:\\users\\acer\\data200-project-sat\\env\\lib\\site-packages (2.2.3)\n",
      "Requirement already satisfied: numpy in c:\\users\\acer\\data200-project-sat\\env\\lib\\site-packages (2.2.5)\n",
      "Requirement already satisfied: patsy>=0.5.6 in c:\\users\\acer\\data200-project-sat\\env\\lib\\site-packages (from statsmodels) (1.0.1)\n",
      "Requirement already satisfied: packaging>=21.3 in c:\\users\\acer\\data200-project-sat\\env\\lib\\site-packages (from statsmodels) (25.0)\n",
      "Requirement already satisfied: python-dateutil>=2.8.2 in c:\\users\\acer\\data200-project-sat\\env\\lib\\site-packages (from pandas) (2.9.0.post0)\n",
      "Requirement already satisfied: pytz>=2020.1 in c:\\users\\acer\\data200-project-sat\\env\\lib\\site-packages (from pandas) (2025.2)\n",
      "Requirement already satisfied: tzdata>=2022.7 in c:\\users\\acer\\data200-project-sat\\env\\lib\\site-packages (from pandas) (2025.2)\n",
      "Requirement already satisfied: six>=1.5 in c:\\users\\acer\\data200-project-sat\\env\\lib\\site-packages (from python-dateutil>=2.8.2->pandas) (1.17.0)\n",
      "Note: you may need to restart the kernel to use updated packages.\n"
     ]
    }
   ],
   "source": [
    "pip install scipy statsmodels pandas numpy"
   ]
  },
  {
   "cell_type": "code",
   "execution_count": 2,
   "id": "f87a5e0b",
   "metadata": {},
   "outputs": [],
   "source": [
    "import pandas as pd\n",
    "import numpy as np\n",
    "from scipy.stats import f_oneway\n",
    "import statsmodels.api as sm\n",
    "from statsmodels.formula.api import ols"
   ]
  },
  {
   "cell_type": "markdown",
   "id": "73e1a69d",
   "metadata": {},
   "source": [
    "First of all Stimulating the data "
   ]
  },
  {
   "cell_type": "code",
   "execution_count": 4,
   "id": "f42ba213",
   "metadata": {},
   "outputs": [],
   "source": [
    "np.random.seed(42)  \n",
    "\n",
    "data = {\n",
    "    'Advertising_Spend': np.random.uniform(10, 100, 50),\n",
    "    'Region': np.random.choice(['North', 'South', 'East', 'West'], 50),\n",
    "    'Sales': np.random.uniform(20, 200, 50),\n",
    "    'Time_Period': np.arange(1, 51)\n",
    "}\n",
    "df = pd.DataFrame(data)"
   ]
  },
  {
   "cell_type": "markdown",
   "id": "dba4a930",
   "metadata": {},
   "source": [
    " Saving Dataset to CSV\n"
   ]
  },
  {
   "cell_type": "code",
   "execution_count": 8,
   "id": "b226bb61",
   "metadata": {},
   "outputs": [],
   "source": [
    "df.to_csv('sales_data.csv', index=False)"
   ]
  },
  {
   "cell_type": "markdown",
   "id": "4bad5d45",
   "metadata": {},
   "source": [
    "Adding a Second Categorical Feature"
   ]
  },
  {
   "cell_type": "code",
   "execution_count": 5,
   "id": "5176efa0",
   "metadata": {},
   "outputs": [],
   "source": [
    "df['Product_Category'] = np.random.choice(['A', 'B', 'C'], 50)"
   ]
  },
  {
   "cell_type": "markdown",
   "id": "2edce8a7",
   "metadata": {},
   "source": [
    "One-Way ANOVA Using SciPy"
   ]
  },
  {
   "cell_type": "code",
   "execution_count": 6,
   "id": "3ff7dfd5",
   "metadata": {},
   "outputs": [],
   "source": [
    "regions = df['Region'].unique()\n",
    "sales_by_region = [df[df['Region'] == region]['Sales'] for region in regions]\n",
    "f_stat, p_value = f_oneway(*sales_by_region)\n"
   ]
  },
  {
   "cell_type": "code",
   "execution_count": 9,
   "id": "f285cb44",
   "metadata": {},
   "outputs": [
    {
     "name": "stdout",
     "output_type": "stream",
     "text": [
      "[SciPy] One-way ANOVA - F-statistic: 0.15379034439409325, P-value: 0.9267232462024781\n"
     ]
    }
   ],
   "source": [
    "print(f\"[SciPy] One-way ANOVA - F-statistic: {f_stat}, P-value: {p_value:}\")"
   ]
  },
  {
   "cell_type": "markdown",
   "id": "12c8bdbe",
   "metadata": {},
   "source": [
    "One-Way ANOVA Using Statsmodels"
   ]
  },
  {
   "cell_type": "code",
   "execution_count": 10,
   "id": "2f1a470a",
   "metadata": {},
   "outputs": [],
   "source": [
    "model_oneway = ols('Sales ~ C(Region)', data=df).fit()\n",
    "anova_oneway = sm.stats.anova_lm(model_oneway, typ=2)"
   ]
  },
  {
   "cell_type": "code",
   "execution_count": 11,
   "id": "25d1d1bd",
   "metadata": {},
   "outputs": [
    {
     "name": "stdout",
     "output_type": "stream",
     "text": [
      "\n",
      "[Statsmodels] One-way ANOVA:\n",
      "                  sum_sq    df        F    PR(>F)\n",
      "C(Region)    1325.911044   3.0  0.15379  0.926723\n",
      "Residual   132197.090036  46.0      NaN       NaN\n"
     ]
    }
   ],
   "source": [
    "print(\"\\n[Statsmodels] One-way ANOVA:\")\n",
    "print(anova_oneway)"
   ]
  },
  {
   "cell_type": "markdown",
   "id": "fc923d29",
   "metadata": {},
   "source": [
    "Two-Way ANOVA (with Interaction)"
   ]
  },
  {
   "cell_type": "code",
   "execution_count": 12,
   "id": "a3aad585",
   "metadata": {},
   "outputs": [],
   "source": [
    "model_twoway = ols('Sales ~ C(Region) + C(Product_Category) + C(Region):C(Product_Category)', data=df).fit()\n",
    "anova_twoway = sm.stats.anova_lm(model_twoway, typ=2)"
   ]
  },
  {
   "cell_type": "code",
   "execution_count": 13,
   "id": "a6916e4b",
   "metadata": {},
   "outputs": [
    {
     "name": "stdout",
     "output_type": "stream",
     "text": [
      "\n",
      "[Statsmodels] Two-way ANOVA:\n",
      "                                      sum_sq    df         F    PR(>F)\n",
      "C(Region)                        1740.455552   3.0  0.208419  0.889941\n",
      "C(Product_Category)              9048.966150   2.0  1.625415  0.210217\n",
      "C(Region):C(Product_Category)   17371.833733   6.0  1.040135  0.415003\n",
      "Residual                       105776.290153  38.0       NaN       NaN\n"
     ]
    }
   ],
   "source": [
    "print(\"\\n[Statsmodels] Two-way ANOVA:\")\n",
    "print(anova_twoway)"
   ]
  },
  {
   "cell_type": "code",
   "execution_count": null,
   "id": "b9d75be3",
   "metadata": {},
   "outputs": [],
   "source": []
  }
 ],
 "metadata": {
  "kernelspec": {
   "display_name": "env",
   "language": "python",
   "name": "python3"
  },
  "language_info": {
   "codemirror_mode": {
    "name": "ipython",
    "version": 3
   },
   "file_extension": ".py",
   "mimetype": "text/x-python",
   "name": "python",
   "nbconvert_exporter": "python",
   "pygments_lexer": "ipython3",
   "version": "3.12.8"
  }
 },
 "nbformat": 4,
 "nbformat_minor": 5
}
